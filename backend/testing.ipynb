{
 "cells": [
  {
   "cell_type": "code",
   "execution_count": 2,
   "id": "de7ad1e7",
   "metadata": {},
   "outputs": [
    {
     "data": {
      "text/plain": [
       "['....,((({{...,)))))', -4.892049312591553]"
      ]
     },
     "execution_count": 2,
     "metadata": {},
     "output_type": "execute_result"
    }
   ],
   "source": [
    "import RNA\n",
    "rna=\"ACGUAGCUAGCUAGCUAGC\"\n",
    "fc = RNA.fold_compound(rna)\n",
    "fc.pf()"
   ]
  },
  {
   "cell_type": "code",
   "execution_count": 1,
   "id": "054f0175",
   "metadata": {},
   "outputs": [
    {
     "name": "stderr",
     "output_type": "stream",
     "text": [
      "/Users/harsha/anaconda3/lib/python3.10/site-packages/primer3/bindings.py:489: UserWarning: Function deprecated please use \"calc_tm\" instead\n",
      "  return THERMO_ANALYSIS.calcTm(seq)\n"
     ]
    },
    {
     "data": {
      "text/plain": [
       "76.32368769652415"
      ]
     },
     "execution_count": 1,
     "metadata": {},
     "output_type": "execute_result"
    }
   ],
   "source": [
    "import primer3\n",
    "DNA_Na_mM = 50.0\n",
    "DNA_Mg_mM = 8.0\n",
    "DNA_dNTP_mM = 0.6\n",
    "DNA_oligo_nM = 250.0\n",
    "def calc_tm(seq) -> float:\n",
    "    return primer3.calcTm(\n",
    "        seq.upper(),\n",
    "        mv_conc=DNA_Na_mM, dv_conc=DNA_Mg_mM,\n",
    "        dntp_conc=DNA_dNTP_mM,\n",
    "        dna_conc=DNA_oligo_nM\n",
    "        )\n",
    "calc_tm(\"ACAGCAGCACGACGACGAACGACGACG\")"
   ]
  }
 ],
 "metadata": {
  "kernelspec": {
   "display_name": "base",
   "language": "python",
   "name": "python3"
  },
  "language_info": {
   "codemirror_mode": {
    "name": "ipython",
    "version": 3
   },
   "file_extension": ".py",
   "mimetype": "text/x-python",
   "name": "python",
   "nbconvert_exporter": "python",
   "pygments_lexer": "ipython3",
   "version": "3.10.9"
  }
 },
 "nbformat": 4,
 "nbformat_minor": 5
}
